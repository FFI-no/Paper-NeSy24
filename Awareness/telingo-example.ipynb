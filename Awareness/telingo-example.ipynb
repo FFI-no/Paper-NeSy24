{
 "cells": [
  {
   "cell_type": "markdown",
   "metadata": {},
   "source": [
    "# LLMs and ASP for situational awareness"
   ]
  },
  {
   "cell_type": "code",
   "execution_count": null,
   "metadata": {},
   "outputs": [],
   "source": [
    "%%file attack-template-library.lp\n",
    "#program initial.\n",
    "\n",
    ":- plan(plan1), not &tel{\n",
    "    >? (h(techn(t1556)) \n",
    "    & (>? h(techn(t1059)) \n",
    "    & (>? h(techn(t1548))\n",
    "    & (>? h(techn(t1059))))))}.\n",
    "    \n",
    "\n",
    ":- plan(plan2), not &tel{\n",
    "    >? (h(techn(t1556)) \n",
    "    & (>? (h(techn(t1059)) | h(techn(t1548)))))}.\n",
    "\n",
    "1 { plan(plan1;plan2) } 1 .\n",
    "\n"
   ]
  },
  {
   "cell_type": "code",
   "execution_count": null,
   "metadata": {},
   "outputs": [],
   "source": [
    "%%file alert-trace.lp\n",
    "#program initial.\n",
    "\n",
    "&tel{&true\n",
    "    ;> o(alert(addGrpMem))\n",
    "    ;> o(alert(benign)) \n",
    "    ;> o(alert(execIam))\n",
    "    ;> o(alert(latMvmSaml))\n",
    "    ;> o(alert(benign)) \n",
    "    ;> o(alert(execWinPsh))}."
   ]
  },
  {
   "cell_type": "markdown",
   "metadata": {},
   "source": [
    "We encode the problem in a *telingo* program where the adversary attack plan from (i) is formulated as a model constraint, the trace in (ii) is encoded as a temporal fact, and the rules in (iii) are encoded as dynamic rules. A stable model produced by the *telingo* solver tells us that it is plausible that the trace is an instance of the attack plan, while the absence of a model will rule it out, thus achieving the goal set out in the experiment. "
   ]
  },
  {
   "cell_type": "code",
   "execution_count": null,
   "metadata": {},
   "outputs": [],
   "source": [
    "%%file mitre-detect-map.lp\n",
    "\n",
    "#program always.\n",
    "%static knowledge\n",
    "tac_tec(privEsc,(t1556;t1548;t1134)).\n",
    "tac_tec(execution,t1059).\n",
    "tac_tec(initAccess, (t1566;t1133)) .\n",
    "\n",
    "\n",
    "#program dynamic.\n",
    "\n",
    "1 {hyp_o(techn(X)) : tac_tec(privEsc,X)} 1 :- o(alert(addGrpMem)) . %could be any of the privEsc techniques\n",
    "1 {hyp_o(techn(t1059))} 1 :- o(alert(execIam)) .\n",
    "1 {hyp_o(techn(t1548))} 1 :- o(alert(latMvmSaml)) .\n",
    "1 {hyp_o(techn(t1059))} 1 :- o(alert(execWinPsh)) .\n",
    "\n",
    "% observed explanation hypothesis-> happened\n",
    "h(X) :- hyp_o(X).\n",
    "h(tac(Tac)) :- h(techn(X)), tac_tec(Tac,X).\n",
    "\n",
    "#defined hyp_u/2.\n",
    "#defined hyp_o/2.\n",
    "#defined h/2.\n",
    "\n",
    "#show plan/1.\n",
    "#show h/1.\n",
    "#show hyp_u/1.\n",
    "#show o/1.\n",
    "#show hyp_o/1."
   ]
  },
  {
   "cell_type": "code",
   "execution_count": 13,
   "metadata": {},
   "outputs": [
    {
     "name": "stdout",
     "output_type": "stream",
     "text": [
      "telingo version 2.1.2\n",
      "Reading from attack-template-library.lp ...\n",
      "Solving...\n",
      "Solving...\n",
      "Solving...\n",
      "Solving...\n",
      "Solving...\n",
      "Solving...\n",
      "Solving...\n",
      "Answer: 1\n",
      " State 0:\n",
      "  plan(plan1)\n",
      " State 1:\n",
      "  h(tac(privEsc)) h(techn(t1556))\n",
      "  hyp_o(techn(t1556))\n",
      "  o(alert(addGrpMem))\n",
      " State 2:\n",
      "  o(alert(benign))\n",
      " State 3:\n",
      "  h(tac(execution)) h(techn(t1059))\n",
      "  hyp_o(techn(t1059))\n",
      "  o(alert(execIam))\n",
      " State 4:\n",
      "  h(tac(privEsc)) h(techn(t1548))\n",
      "  hyp_o(techn(t1548))\n",
      "  o(alert(latMvmSaml))\n",
      " State 5:\n",
      "  o(alert(benign))\n",
      " State 6:\n",
      "  h(tac(execution)) h(techn(t1059))\n",
      "  hyp_o(techn(t1059))\n",
      "  o(alert(execWinPsh))\n",
      "Answer: 2\n",
      " State 0:\n",
      "  plan(plan2)\n",
      " State 1:\n",
      "  h(tac(privEsc)) h(techn(t1556))\n",
      "  hyp_o(techn(t1556))\n",
      "  o(alert(addGrpMem))\n",
      " State 2:\n",
      "  o(alert(benign))\n",
      " State 3:\n",
      "  h(tac(execution)) h(techn(t1059))\n",
      "  hyp_o(techn(t1059))\n",
      "  o(alert(execIam))\n",
      " State 4:\n",
      "  h(tac(privEsc)) h(techn(t1548))\n",
      "  hyp_o(techn(t1548))\n",
      "  o(alert(latMvmSaml))\n",
      " State 5:\n",
      "  o(alert(benign))\n",
      " State 6:\n",
      "  h(tac(execution)) h(techn(t1059))\n",
      "  hyp_o(techn(t1059))\n",
      "  o(alert(execWinPsh))\n",
      "SATISFIABLE\n",
      "\n",
      "Models       : 2\n",
      "Calls        : 7\n",
      "Time         : 0.190s (Solving: 0.02s 1st Model: 0.00s Unsat: 0.01s)\n",
      "CPU Time     : 0.190s\n"
     ]
    }
   ],
   "source": [
    "!telingo 0 attack-template-library.lp mitre-detect-map.lp alert-trace.lp "
   ]
  }
 ],
 "metadata": {
  "kernelspec": {
   "display_name": "base",
   "language": "python",
   "name": "python3"
  },
  "language_info": {
   "codemirror_mode": {
    "name": "ipython",
    "version": 3
   },
   "file_extension": ".py",
   "mimetype": "text/x-python",
   "name": "python",
   "nbconvert_exporter": "python",
   "pygments_lexer": "ipython3",
   "version": "3.10.12"
  }
 },
 "nbformat": 4,
 "nbformat_minor": 2
}
